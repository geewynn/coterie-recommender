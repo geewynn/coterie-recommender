{
 "cells": [
  {
   "cell_type": "code",
   "execution_count": null,
   "metadata": {},
   "outputs": [],
   "source": [
    "!pip3 install kfp --upgrade --user"
   ]
  },
  {
   "cell_type": "code",
   "execution_count": 49,
   "metadata": {},
   "outputs": [],
   "source": [
    "EXPERIMENT_NAME = 'real'\n",
    "BUCKET = \"kuuflll\""
   ]
  },
  {
   "cell_type": "code",
   "execution_count": 50,
   "metadata": {},
   "outputs": [],
   "source": [
    "import kfp\n",
    "from kfp import compiler\n",
    "import kfp.components as comp\n",
    "import kfp.dsl as dsl\n",
    "from kfp import gcp\n",
    "import os\n",
    "from pathlib import Path"
   ]
  },
  {
   "cell_type": "code",
   "execution_count": 51,
   "metadata": {},
   "outputs": [
    {
     "name": "stdout",
     "output_type": "stream",
     "text": [
      "Help on function preprocess:\n",
      "\n",
      "preprocess(input_data_path:\"{'GcsPath': OrderedDict([('data_type', 'CSV')])}\", transform_path_uri:'GCSPath', user_tftransform_path_uri:'GCSPath', item_tftransform_path_uri:'GCSPath', nitems_path_uri:'GCSPath', nusers_path_uri:'GCSPath')\n",
      "    preprocess\n",
      "    Performs the IOB preprocessing.\n",
      "\n"
     ]
    }
   ],
   "source": [
    "preprocess_operation = kfp.components.load_component_from_url(\n",
    "    'https://storage.googleapis.com/kuuflll/components/preprocess/component.yaml')\n",
    "help(preprocess_operation)"
   ]
  },
  {
   "cell_type": "code",
   "execution_count": 52,
   "metadata": {},
   "outputs": [],
   "source": [
    "input_data_gcs_dir = 'gs://coterie-rec/'\n",
    "data_set = os.path.join(input_data_gcs_dir, 'rating.csv')\n",
    "#output_model_uri_template = os.path.join(output_data_gcs_dir, kfp.dsl.EXECUTION_ID_PLACEHOLDER, 'output_model_uri', 'data')"
   ]
  },
  {
   "cell_type": "code",
   "execution_count": 53,
   "metadata": {},
   "outputs": [],
   "source": [
    "@dsl.pipeline(\n",
    "  name='Rec Pipeline',\n",
    "  description='Performs preprocessing, training and deployment.'\n",
    ")\n",
    "def pipeline():\n",
    "    \n",
    "    preprocess_task = preprocess_operation(\n",
    "        input_data_path=data_set,\n",
    "        transform_path_uri=\"gs://{}/{{workflow.uid}}/\".format(BUCKET),\n",
    "        user_tftransform_path_uri=\"gs://{}/{{workflow.uid}}/preprocess/tftransform/user/\".format(BUCKET),\n",
    "        item_tftransform_path_uri=\"gs://{}/{{workflow.uid}}/preprocess/tftransform/item/\".format(BUCKET),\n",
    "        nitems_path_uri=\"gs://{}/{{workflow.uid}}/nitems/\".format(BUCKET),\n",
    "        nusers_path_uri=\"gs://{}/{{workflow.uid}}/nusers/\".format(BUCKET)).apply(kfp.gcp.use_gcp_secret('user-gcp-sa')) "
   ]
  },
  {
   "cell_type": "code",
   "execution_count": 54,
   "metadata": {},
   "outputs": [],
   "source": [
    "pipeline_func = pipeline\n",
    "pipeline_filename = pipeline_func.__name__ + '.pipeline.zip'\n",
    "\n",
    "import kfp.compiler as compiler\n",
    "compiler.Compiler().compile(pipeline_func, pipeline_filename)"
   ]
  },
  {
   "cell_type": "code",
   "execution_count": 55,
   "metadata": {},
   "outputs": [
    {
     "name": "stdout",
     "output_type": "stream",
     "text": [
      "{'created_at': datetime.datetime(2020, 10, 1, 19, 3, 32, tzinfo=tzlocal()),\n",
      " 'description': None,\n",
      " 'id': 'fb07609d-9308-4c4f-9b46-bbe67ef081ac',\n",
      " 'name': 'real',\n",
      " 'resource_references': None,\n",
      " 'storage_state': None}\n"
     ]
    }
   ],
   "source": [
    "client = kfp.Client()\n",
    "\n",
    "try:\n",
    "    experiment = client.get_experiment(experiment_name=EXPERIMENT_NAME)\n",
    "except:\n",
    "    experiment = client.create_experiment(EXPERIMENT_NAME)\n",
    "    \n",
    "print(experiment)"
   ]
  },
  {
   "cell_type": "code",
   "execution_count": 56,
   "metadata": {},
   "outputs": [
    {
     "data": {
      "text/html": [
       "Run link <a href=\"/pipeline/#/runs/details/3df63410-883d-4c4e-bd42-6e88376d2a61\" target=\"_blank\" >here</a>"
      ],
      "text/plain": [
       "<IPython.core.display.HTML object>"
      ]
     },
     "metadata": {},
     "output_type": "display_data"
    },
    {
     "name": "stdout",
     "output_type": "stream",
     "text": [
      "fb07609d-9308-4c4f-9b46-bbe67ef081ac\n",
      "pipeline run\n",
      "pipeline.pipeline.zip\n",
      "{}\n"
     ]
    }
   ],
   "source": [
    "arguments = {}\n",
    "\n",
    "run_name = pipeline_func.__name__ + ' run'\n",
    "run_result = client.run_pipeline(experiment.id, \n",
    "                                 run_name, \n",
    "                                 pipeline_filename, \n",
    "                                 arguments)\n",
    "\n",
    "print(experiment.id)\n",
    "print(run_name)\n",
    "print(pipeline_filename)\n",
    "print(arguments)"
   ]
  },
  {
   "cell_type": "code",
   "execution_count": 34,
   "metadata": {},
   "outputs": [
    {
     "name": "stdout",
     "output_type": "stream",
     "text": [
      "--2020-10-01 19:20:05--  https://storage.googleapis.com/kuuflll/components/preprocess/component.yaml\n",
      "Resolving storage.googleapis.com (storage.googleapis.com)... 173.194.216.128, 74.125.141.128, 74.125.31.128, ...\n",
      "Connecting to storage.googleapis.com (storage.googleapis.com)|173.194.216.128|:443... connected.\n",
      "HTTP request sent, awaiting response... 200 OK\n",
      "Length: 1545 (1.5K) [application/octet-stream]\n",
      "Saving to: ‘component.yaml.3’\n",
      "\n",
      "component.yaml.3    100%[===================>]   1.51K  --.-KB/s    in 0s      \n",
      "\n",
      "2020-10-01 19:20:06 (27.0 MB/s) - ‘component.yaml.3’ saved [1545/1545]\n",
      "\n"
     ]
    }
   ],
   "source": [
    "!wget 'https://storage.googleapis.com/kuuflll/components/preprocess/component.yaml'"
   ]
  },
  {
   "cell_type": "code",
   "execution_count": 35,
   "metadata": {},
   "outputs": [
    {
     "name": "stdout",
     "output_type": "stream",
     "text": [
      "name: preprocess\r\n",
      "description: Performs the IOB preprocessing.\r\n",
      "inputs:\r\n",
      "- {name: input_data_path, type: {GcsPath: {data_type: CSV}}}\r\n",
      "- {name: transform_path_uri, type: GCSPath}\r\n",
      "- {name: user_tftransform_path_uri, type: GCSPath}\r\n",
      "- {name: item_tftransform_path_uri, type: GCSPath}\r\n",
      "- {name: nitems_path_uri, type: GCSPath}\r\n",
      "- {name: nusers_path_uri, type: GCSPath}\r\n",
      "outputs:\r\n",
      "- {name: transform_path_uri, type: GCSPath}\r\n",
      "- {name: user_tftransform_path_uri, type: GCSPath}\r\n",
      "- {name: item_tftransform_path_uri, type: GCSPath}\r\n",
      "- {name: nitems_path_uri, type: GCSPath}\r\n",
      "- {name: nusers_path_uri, type: GCSPath}\r\n",
      "implementation:\r\n",
      "  container:\r\n",
      "    image: gcr.io/kubeflor/kubeflow/rec/preprocess:latest\r\n",
      "    command: [\r\n",
      "      python3, /pipelines/component/src/processing.py,\r\n",
      "      --input,                 {inputValue: input_data_path},\r\n",
      "      --transform,             {inputValue: transform_path_uri},\r\n",
      "      --user-tftransform,      {inputValue: user_tftransform_path_uri },\r\n",
      "      --item-tftransform,      {inputValue: item_tftransform_path_uri},\r\n",
      "      --nitems,                {inputValue: nitems_path_uri},\r\n",
      "      --nusers,                {inputValue: nusers_path_uri},\r\n",
      "      \r\n",
      "      --transform-path-file,             {outputPath: transform_path_uri},\r\n",
      "      --user-tftransform-path-file,      {outputPath: user_tftransform_path_uri },\r\n",
      "      --item-tftransform-path-file,      {outputPath: item_tftransform_path_uri},\r\n",
      "      --nitems-path-file,                {outputPath: nitems_path_uri},\r\n",
      "      --nusers-path-file,                {outputPath: nusers_path_uri},\r\n",
      "    ]"
     ]
    }
   ],
   "source": [
    "!cat component.yaml.3"
   ]
  },
  {
   "cell_type": "code",
   "execution_count": null,
   "metadata": {},
   "outputs": [],
   "source": []
  }
 ],
 "metadata": {
  "kernelspec": {
   "display_name": "Python 3",
   "language": "python",
   "name": "python3"
  },
  "language_info": {
   "codemirror_mode": {
    "name": "ipython",
    "version": 3
   },
   "file_extension": ".py",
   "mimetype": "text/x-python",
   "name": "python",
   "nbconvert_exporter": "python",
   "pygments_lexer": "ipython3",
   "version": "3.6.9"
  }
 },
 "nbformat": 4,
 "nbformat_minor": 4
}
